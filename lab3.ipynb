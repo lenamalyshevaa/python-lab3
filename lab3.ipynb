{
  "nbformat": 4,
  "nbformat_minor": 0,
  "metadata": {
    "colab": {
      "provenance": []
    },
    "kernelspec": {
      "name": "python3",
      "display_name": "Python 3"
    },
    "language_info": {
      "name": "python"
    }
  },
  "cells": [
    {
      "cell_type": "code",
      "execution_count": 1,
      "metadata": {
        "colab": {
          "base_uri": "https://localhost:8080/"
        },
        "id": "8tzrhgHlpe3V",
        "outputId": "5e741b46-5ab8-41f1-ff81-7cf5120f0aa9"
      },
      "outputs": [
        {
          "output_type": "stream",
          "name": "stdout",
          "text": [
            "Тесты пройдены\n"
          ]
        }
      ],
      "source": [
        "def min_breaks(n, m):\n",
        "    # Базовый случай: если шоколадка уже состоит из одного квадратика, разломов не требуется\n",
        "    if n == 1 and m == 1:\n",
        "        return 0\n",
        "    # Если одна из сторон равна 1, разломы происходят только вдоль другой стороны\n",
        "    if n == 1:\n",
        "        return m - 1\n",
        "    if m == 1:\n",
        "        return n - 1\n",
        "    # Разлом: текущий разлом + рекурсивное разбиение\n",
        "    return 1 + min_breaks(n - 1, m) + min_breaks(1, m)\n",
        "\n",
        "# Тесты\n",
        "assert min_breaks(2, 3) == 5\n",
        "assert min_breaks(3, 3) == 8\n",
        "assert min_breaks(1, 1) == 0\n",
        "\n",
        "assert min_breaks(4, 4) == 15\n",
        "assert min_breaks(1, 5) == 4\n",
        "assert min_breaks(5, 1) == 4\n",
        "\n",
        "print(\"Тесты пройдены\")\n"
      ]
    }
  ]
}